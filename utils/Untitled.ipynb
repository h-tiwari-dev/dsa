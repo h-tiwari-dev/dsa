{
 "cells": [
  {
   "cell_type": "code",
   "execution_count": 1,
   "id": "e946a72d-17aa-4a92-9a07-b0786943182b",
   "metadata": {
    "tags": []
   },
   "outputs": [],
   "source": [
    "import argparse\n",
    "\n",
    "def main():\n",
    "    parser = argparse.ArgumentParser(description=\"LeetCode Problem creator\")\n",
    "    parser.add_argument(\"problemName\", help=\"Name of the problem you are solving\")\n",
    "    parser.add_argument(\"--folder\", help=\"Optional Argument. Which folder do you want to create the file\")\n",
    "\n",
    "    args = parser.parse_args()\n",
    "    print(f\"{args.problemName}, {args.folder}\")\n",
    "\n",
    "if __name__ == \"__main__\":\n",
    "    main()"
   ]
  },
  {
   "cell_type": "code",
   "execution_count": null,
   "id": "d94db579-f6f7-4145-baf3-0e405b8d15aa",
   "metadata": {
    "tags": []
   },
   "outputs": [],
   "source": [
    "import requests\n",
    "\n",
    "url = 'https://leetcode.com/problems/add-two-numbers/description/'\n",
    "\n",
    "response = requests.get(url)\n",
    "\n",
    "if response.status_code == 200:\n",
    "    print(response.text)"
   ]
  },
  {
   "cell_type": "code",
   "execution_count": 8,
   "id": "b6a1152f-32b0-414f-ae28-913bfac3f25e",
   "metadata": {
    "tags": []
   },
   "outputs": [],
   "source": [
    "from lxml import html"
   ]
  },
  {
   "cell_type": "code",
   "execution_count": 14,
   "id": "c8cc53be-e77d-4396-b5c6-a156ec803216",
   "metadata": {
    "tags": []
   },
   "outputs": [],
   "source": [
    "xpath_expression = '#editor > div.flex.flex-1.flex-col.overflow-hidden.pb-2 > div.flex-1.overflow-hidden > div > div > div.overflow-guard > div.monaco-scrollable-element.editor-scrollable.vs-dark.mac'"
   ]
  },
  {
   "cell_type": "code",
   "execution_count": 15,
   "id": "647dbd14-7a30-4c00-b531-955522da8816",
   "metadata": {
    "tags": []
   },
   "outputs": [],
   "source": [
    "tree = html.fromstring(response.content)"
   ]
  },
  {
   "cell_type": "code",
   "execution_count": 16,
   "id": "791fa800-d354-45ce-87a6-1218803518a3",
   "metadata": {
    "tags": []
   },
   "outputs": [],
   "source": [
    "elements = tree.xpath(xpath_expression)"
   ]
  },
  {
   "cell_type": "code",
   "execution_count": 20,
   "id": "53f75e99-c03f-472f-b241-c36126c37e91",
   "metadata": {
    "tags": []
   },
   "outputs": [
    {
     "data": {
      "text/plain": [
       "[]"
      ]
     },
     "execution_count": 20,
     "metadata": {},
     "output_type": "execute_result"
    }
   ],
   "source": [
    "elements"
   ]
  },
  {
   "cell_type": "code",
   "execution_count": null,
   "id": "eb243ef6-65c2-41f5-8d98-f26723014f93",
   "metadata": {
    "tags": []
   },
   "outputs": [],
   "source": [
    "response.content"
   ]
  },
  {
   "cell_type": "code",
   "execution_count": 33,
   "id": "a573f7cd-3f8a-4f48-912d-1bae61b99243",
   "metadata": {
    "tags": []
   },
   "outputs": [
    {
     "name": "stdout",
     "output_type": "stream",
     "text": [
      "{}\n"
     ]
    }
   ],
   "source": [
    "from urllib.parse import urlparse, parse_qs\n",
    "\n",
    "# Example URL\n",
    "url = \"https://leetcode.com/problems/add-two-numbers/\"\n",
    "\n",
    "# Parse the URL\n",
    "parsed_url = urlparse(url)\n",
    "\n",
    "# Extract the query parameters\n",
    "query_parameters = parse_qs(parsed_url.query)\n",
    "\n",
    "# Print the extracted parameters\n",
    "print(query_parameters)\n"
   ]
  },
  {
   "cell_type": "code",
   "execution_count": 34,
   "id": "2c1a569a-8a48-4c91-8e32-1399d2988528",
   "metadata": {
    "tags": []
   },
   "outputs": [
    {
     "data": {
      "text/plain": [
       "'/problems/add-two-numbers/'"
      ]
     },
     "execution_count": 34,
     "metadata": {},
     "output_type": "execute_result"
    }
   ],
   "source": [
    "parsed_url.path"
   ]
  },
  {
   "cell_type": "code",
   "execution_count": 37,
   "id": "1d14739b-029e-4fe6-8afc-6985680d2a21",
   "metadata": {
    "tags": []
   },
   "outputs": [
    {
     "data": {
      "text/plain": [
       "'add-two-numbers'"
      ]
     },
     "execution_count": 37,
     "metadata": {},
     "output_type": "execute_result"
    }
   ],
   "source": [
    "parsed_url.path.split(\"/\")[parsed_url.path.split(\"/\").index(\"problems\") + 1]"
   ]
  },
  {
   "cell_type": "code",
   "execution_count": null,
   "id": "63c598a1-1b34-489d-9f90-ecf8fd4ea403",
   "metadata": {},
   "outputs": [],
   "source": []
  }
 ],
 "metadata": {
  "kernelspec": {
   "display_name": "Python 3 (ipykernel)",
   "language": "python",
   "name": "python3"
  },
  "language_info": {
   "codemirror_mode": {
    "name": "ipython",
    "version": 3
   },
   "file_extension": ".py",
   "mimetype": "text/x-python",
   "name": "python",
   "nbconvert_exporter": "python",
   "pygments_lexer": "ipython3",
   "version": "3.11.4"
  }
 },
 "nbformat": 4,
 "nbformat_minor": 5
}
